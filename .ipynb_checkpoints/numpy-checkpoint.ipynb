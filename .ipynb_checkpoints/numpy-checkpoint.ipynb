{
 "cells": [
  {
   "cell_type": "markdown",
   "metadata": {},
   "source": [
    "### NumPy - Numerical Python\n",
    "\n",
    "In this lesson, we’ll be constructing and manipulating single-variable datasets. One way to think of a single-variable dataset is that it contains answers to a question. For instance, we might ask 100 people, “How tall are you?” Their heights in inches would form our dataset.\n",
    "\n",
    "To work with our datasets, we’ll be using a powerful Python module known as NumPy, which stands for Numerical Python.\n",
    "\n",
    "NumPy has many uses including:\n",
    "\n",
    "Efficiently working with many numbers at once\n",
    "Generating random numbers\n",
    "Performing many different numerical functions (i.e., calculating sin, cos, tan, mean, median, etc.)\n",
    "In the following exercises, we’ll learn how to construct one- and two-dimensional arrays and perform basic array operations."
   ]
  },
  {
   "cell_type": "code",
   "execution_count": 285,
   "metadata": {},
   "outputs": [],
   "source": [
    "import numpy as np\n",
    "from matplotlib import pyplot as plt\n",
    "import pandas as pd\n",
    "import seaborn as sns"
   ]
  },
  {
   "cell_type": "markdown",
   "metadata": {},
   "source": [
    "1. Imagine you’re a teacher and you need to keep track of your student’s test scores. On the first test, the students received the following scores:\n",
    "\n",
    "92, 94, 88, 91, 87\n",
    "\n",
    "Create a NumPy array with these values and save it with the name test_1."
   ]
  },
  {
   "cell_type": "code",
   "execution_count": 286,
   "metadata": {},
   "outputs": [],
   "source": [
    "# Create array from list\n",
    "test_1 = np.array([92, 94, 88, 91, 87])\n",
    "# Save the array to a file\n",
    "np.savetxt('test_2.csv', test_1, delimiter=',', fmt='%s')\n",
    "# Read the same file into an array\n",
    "test_2 = np.genfromtxt('test_2.csv', delimiter=',')"
   ]
  },
  {
   "cell_type": "code",
   "execution_count": 287,
   "metadata": {},
   "outputs": [
    {
     "name": "stdout",
     "output_type": "stream",
     "text": [
      "[(87, 89), (85, 87), (72, 74), (90, 92), (92, 94)]\n",
      "[260 281 248 276 272]\n",
      "[86.66666667 93.66666667 82.66666667 92.         90.66666667]\n"
     ]
    }
   ],
   "source": [
    "# Perform arithmetic on arrays\n",
    "test_1 = np.array([92, 94, 88, 91, 87])\n",
    "test_2 = np.array([79, 100, 86, 93, 91])\n",
    "test_3 = np.array([87, 85, 72, 90, 92])\n",
    "\n",
    "# Test_3 scores needed to be adjusted by adding +2 to every grade\n",
    "test_3_fixed = test_3 + 2\n",
    "print(list(zip(test_3, test_3_fixed)))\n",
    "\n",
    "# Find the average.\n",
    "# 1. Find sum\n",
    "total_grade = test_1 + test_2 + test_3_fixed\n",
    "print(total_grade)\n",
    "# 2. DIvide by the number of tests (3)\n",
    "final_grade = total_grade/3\n",
    "print(final_grade)"
   ]
  },
  {
   "cell_type": "code",
   "execution_count": 288,
   "metadata": {},
   "outputs": [
    {
     "data": {
      "text/plain": [
       "array([[1, 0, 0, 1, 1],\n",
       "       [0, 1, 1, 1, 0]])"
      ]
     },
     "execution_count": 288,
     "metadata": {},
     "output_type": "execute_result"
    }
   ],
   "source": [
    "# Multi-dimensial arrays.\n",
    "# Use one to represent an experiment tossing a coin 5 time.\n",
    "# First as two 1D arrays\n",
    "coin_toss_1 = np.array( [1, 0, 0, 1, 1])\n",
    "coin_toss_2 = np.array( [0, 1, 1, 1, 0])\n",
    "# Next as the rows in a 2D array\n",
    "coin_toss_expt = np.array([ [1,0,0,1,1], [0,1,1,1,0] ])  # Vector of same length vectors\n",
    "coin_toss_expt"
   ]
  },
  {
   "cell_type": "code",
   "execution_count": 289,
   "metadata": {},
   "outputs": [
    {
     "data": {
      "text/plain": [
       "array([94, 88])"
      ]
     },
     "execution_count": 289,
     "metadata": {},
     "output_type": "execute_result"
    }
   ],
   "source": [
    "# Selecting elements from a 1D array\n",
    "test_1 = np.array([92, 94, 88, 91, 87])\n",
    "test_2 = np.array([79, 100, 86, 93, 91])\n",
    "test_3 = np.array([87, 85, 72, 90, 92])\n",
    "jeremy_test_2 = test_2[3]\n",
    "manual_adwoa_test_1 = np.array([test_1[1], test_1[2]])\n",
    "manual_adwoa_test_1\n",
    "\n"
   ]
  },
  {
   "cell_type": "code",
   "execution_count": 290,
   "metadata": {},
   "outputs": [
    {
     "name": "stdout",
     "output_type": "stream",
     "text": [
      "92\n"
     ]
    }
   ],
   "source": [
    "student_scores = np.array([[92, 94, 88, 91, 87],\n",
    "                           [79, 100, 86, 93, 91],\n",
    "                           [87, 85, 72, 90, 92]])\n",
    "\n",
    "tanya_test_3 = student_scores[2,0]\n",
    "cody_test_scores = student_scores[:,4]\n",
    "cody_test_scores\n",
    "print(student_scores[-1,-1])"
   ]
  },
  {
   "cell_type": "code",
   "execution_count": 291,
   "metadata": {},
   "outputs": [],
   "source": [
    "# Select values based on a condition\n",
    "porridge = np.array([79, 65, 50, 63, 56, 90, 85, 98, 79, 51])\n",
    "\n",
    "cold = porridge[ porridge<60 ]\n",
    "hot  = porridge[porridge>80]\n",
    "just_right = porridge[(porridge>=60) & (porridge<=80)]"
   ]
  },
  {
   "cell_type": "code",
   "execution_count": 292,
   "metadata": {},
   "outputs": [
    {
     "data": {
      "text/plain": [
       "array([79, 65, 63, 79])"
      ]
     },
     "execution_count": 292,
     "metadata": {},
     "output_type": "execute_result"
    }
   ],
   "source": [
    "just_right"
   ]
  },
  {
   "cell_type": "markdown",
   "metadata": {},
   "source": [
    "The basics of the NumPy package hsvr these key points:\n",
    "\n",
    "- Arrays are a special type of list that allows us to store values in an organized manner.\n",
    "- An array can be created by either defining it directly using np.array() or by importing a CSV using np.genfromtxt('file.csv', delimiter=',').\n",
    "- An operation (such as addition) can be performed on every element in an array by simply performing it on the array itself.\n",
    "- Elements can be selected from arrays using their index and array locations, both of which start at 0.\n",
    "- Logical operations can be used to create new, more focused arrays out of larger arrays."
   ]
  },
  {
   "cell_type": "code",
   "execution_count": 293,
   "metadata": {},
   "outputs": [
    {
     "data": {
      "text/plain": [
       "array([[43.6, 45.1, 58.8, 53. ],\n",
       "       [47. , 44.5, 58.3, 52.6],\n",
       "       [46.7, 44.2, 57.9, 52.2],\n",
       "       [46.5, 44.1, 57.6, 51.9],\n",
       "       [46.2, 43.9, 57.2, 51.5]])"
      ]
     },
     "execution_count": 293,
     "metadata": {},
     "output_type": "execute_result"
    }
   ],
   "source": [
    "# Columns are times: 0:00 6:00 12:00 18:00\n",
    "# Rows are M, T, w, Th, F\n",
    "\n",
    "temperatures = np.array([[ 43.6,  45.1,  58.8,  53. ], \\\n",
    " [ 47.,   44.5,  58.3,  52.6], \\\n",
    " [ 46.7,  44.2,  57.9,  52.2], \\\n",
    " [ 46.5,  44.1,  57.6,  51.9], \\\n",
    " [ 46.2,  43.9,  57.2,  51.5]])\n",
    "temperatures"
   ]
  },
  {
   "cell_type": "code",
   "execution_count": 294,
   "metadata": {},
   "outputs": [
    {
     "data": {
      "text/plain": [
       "array([[46.6, 48.1, 61.8, 56. ],\n",
       "       [50. , 47.5, 61.3, 55.6],\n",
       "       [49.7, 47.2, 60.9, 55.2],\n",
       "       [49.5, 47.1, 60.6, 54.9],\n",
       "       [49.2, 46.9, 60.2, 54.5]])"
      ]
     },
     "execution_count": 294,
     "metadata": {},
     "output_type": "execute_result"
    }
   ],
   "source": [
    "# Make correction in the sensor data\n",
    "# Put them into a new array. The original data should not be modified in place.\n",
    "# Note t = temperatures makes a deep copy, not a pointer to the same object.\n",
    "# Modifying t will not modify the original like it would for a dataframe\n",
    "\n",
    "temperatures_fixed = temperatures + 3.0\n",
    "temperatures_fixed\n"
   ]
  },
  {
   "cell_type": "code",
   "execution_count": 295,
   "metadata": {},
   "outputs": [
    {
     "data": {
      "text/plain": [
       "array([46.6, 48.1, 61.8, 56. ])"
      ]
     },
     "execution_count": 295,
     "metadata": {},
     "output_type": "execute_result"
    }
   ],
   "source": [
    "monday_temperatures = temperatures_fixed[0,:]\n",
    "monday_temperatures"
   ]
  },
  {
   "cell_type": "code",
   "execution_count": 296,
   "metadata": {},
   "outputs": [
    {
     "data": {
      "text/plain": [
       "array([47.1, 46.9])"
      ]
     },
     "execution_count": 296,
     "metadata": {},
     "output_type": "execute_result"
    }
   ],
   "source": [
    "# Th and Fri temps at 6am. Note that the slice has to go beyond the item you want\n",
    "thursday_friday_morning = temperatures_fixed[3:5,1]\n",
    "thursday_friday_morning"
   ]
  },
  {
   "cell_type": "code",
   "execution_count": 297,
   "metadata": {},
   "outputs": [
    {
     "data": {
      "text/plain": [
       "array([[47.1],\n",
       "       [46.9]])"
      ]
     },
     "execution_count": 297,
     "metadata": {},
     "output_type": "execute_result"
    }
   ],
   "source": [
    "thursday_friday_morning = np.array([[temperatures_fixed[3,1]], [temperatures_fixed[4,1]] ])\n",
    "thursday_friday_morning"
   ]
  },
  {
   "cell_type": "markdown",
   "metadata": {},
   "source": [
    "all the high and low temperatures over the week.\n",
    "\n",
    "Select all temperatures that are under 50 degrees or over 60 degrees and save them to a new array temperature_extremes."
   ]
  },
  {
   "cell_type": "code",
   "execution_count": 298,
   "metadata": {},
   "outputs": [
    {
     "data": {
      "text/plain": [
       "array([46.6, 48.1, 61.8, 47.5, 61.3, 49.7, 47.2, 60.9, 49.5, 47.1, 60.6,\n",
       "       49.2, 46.9, 60.2])"
      ]
     },
     "execution_count": 298,
     "metadata": {},
     "output_type": "execute_result"
    }
   ],
   "source": [
    "temperature_extremes = temperatures_fixed[(temperatures_fixed<50)|(temperatures_fixed>60)]\n",
    "temperature_extremes"
   ]
  },
  {
   "cell_type": "markdown",
   "metadata": {},
   "source": [
    "I think the real answer would be a 2d array with columns low and high for each of the days in rows."
   ]
  },
  {
   "cell_type": "code",
   "execution_count": 299,
   "metadata": {},
   "outputs": [
    {
     "data": {
      "text/plain": [
       "array([[46.6, 61.8],\n",
       "       [47.5, 61.3],\n",
       "       [47.2, 60.9],\n",
       "       [47.1, 60.6],\n",
       "       [46.9, 60.2]])"
      ]
     },
     "execution_count": 299,
     "metadata": {},
     "output_type": "execute_result"
    }
   ],
   "source": [
    "ex = np.array([ [t[i,:].min(), t[i:].max()] for i in range(5) ])\n",
    "ex"
   ]
  },
  {
   "cell_type": "markdown",
   "metadata": {},
   "source": [
    "### Betty's Bakery\n",
    "Betty has always used her grandmother’s recipe book to make cookies, cakes, pancakes, and bread for her friends and family. She’s getting ready to open a business and will need to start buying all of her milk, eggs, sugar, flour, and butter in bulk.\n",
    "\n",
    "Help Betty figure out how much she needs to buy using NumPy arrays describing her recipes."
   ]
  },
  {
   "cell_type": "code",
   "execution_count": 300,
   "metadata": {},
   "outputs": [
    {
     "data": {
      "text/plain": [
       "array([[2.   , 0.75 , 0.2  , 1.   , 0.5  ],\n",
       "       [1.   , 0.125, 1.   , 1.   , 0.125],\n",
       "       [2.75 , 1.5  , 1.   , 0.   , 1.   ],\n",
       "       [4.   , 0.5  , 2.   , 2.   , 0.5  ]])"
      ]
     },
     "execution_count": 300,
     "metadata": {},
     "output_type": "execute_result"
    }
   ],
   "source": [
    "import numpy as np\n",
    "cupcakes = np.array([2, .75, 2, 1, .5])\n",
    "\n",
    "# Rows: recipes [cupcake, pancake, cookie, bread]\n",
    "# Columns: Ingredients [flour, sugar, eggs, milk, butter]\n",
    "recipes = np.genfromtxt('recipes.csv', delimiter=',')\n",
    "recipes\n"
   ]
  },
  {
   "cell_type": "code",
   "execution_count": 301,
   "metadata": {},
   "outputs": [
    {
     "data": {
      "text/plain": [
       "array([False,  True,  True, False])"
      ]
     },
     "execution_count": 301,
     "metadata": {},
     "output_type": "execute_result"
    }
   ],
   "source": [
    "# Lists the # eggs needed for each recipe\n",
    "eggs = recipes[:,2]\n",
    "# which recipes need exactly 1 egg\n",
    "eggs==1"
   ]
  },
  {
   "cell_type": "code",
   "execution_count": 302,
   "metadata": {},
   "outputs": [
    {
     "data": {
      "text/plain": [
       "array([2.75, 1.5 , 1.  , 0.  , 1.  ])"
      ]
     },
     "execution_count": 302,
     "metadata": {},
     "output_type": "execute_result"
    }
   ],
   "source": [
    "# recipe for cookies\n",
    "cookies = recipes[2,:]\n",
    "cookies"
   ]
  },
  {
   "cell_type": "markdown",
   "metadata": {},
   "source": [
    "Get the number of ingredients for a double batch of cupcakes by using multiplication on cupcakes. Save your new variable to double_batch."
   ]
  },
  {
   "cell_type": "code",
   "execution_count": 303,
   "metadata": {},
   "outputs": [
    {
     "data": {
      "text/plain": [
       "array([4. , 1.5, 0.4, 2. , 1. ])"
      ]
     },
     "execution_count": 303,
     "metadata": {},
     "output_type": "execute_result"
    }
   ],
   "source": [
    "double_batch = recipes[0,:]*2\n",
    "double_batch"
   ]
  },
  {
   "cell_type": "markdown",
   "metadata": {},
   "source": [
    "Create a new variable called grocery_list by adding cookies and double_batch."
   ]
  },
  {
   "cell_type": "code",
   "execution_count": 304,
   "metadata": {},
   "outputs": [
    {
     "data": {
      "text/plain": [
       "array([6.75, 3.  , 1.4 , 2.  , 2.  ])"
      ]
     },
     "execution_count": 304,
     "metadata": {},
     "output_type": "execute_result"
    }
   ],
   "source": [
    "grocery_list = cookies + double_batch\n",
    "grocery_list"
   ]
  },
  {
   "cell_type": "markdown",
   "metadata": {},
   "source": [
    "### Statistics with numpy\n",
    "Use NumPy to analyze data. We’ll learn different methods to calculate common statistical properties of a dataset, such as finding the mean and standard deviation. By the end, you’ll be able to do basic analysis of a dataset and understand how we can use statistics to come to conclusions about data.\n",
    "\n",
    "The statistical concepts that we’ll cover include:\n",
    "\n",
    "Mean\n",
    "Median\n",
    "Percentiles\n",
    "Interquartile Range\n",
    "Outliers\n",
    "Standard Deviation"
   ]
  },
  {
   "cell_type": "code",
   "execution_count": 305,
   "metadata": {},
   "outputs": [],
   "source": [
    "# Numpy mean\n",
    "store_one = np.array([2, 5, 8, 3, 4, 10, 15, 5])\n",
    "store_two = np.array([3, 17, 18,  9,  2, 14, 10])\n",
    "store_three = np.array([7, 5, 4, 3, 2, 7, 7])\n",
    "\n",
    "store_one_avg = np.mean(store_one)\n",
    "store_two_avg = np.mean(store_two)\n",
    "store_three_avg = np.mean(store_three)\n",
    "\n"
   ]
  },
  {
   "cell_type": "code",
   "execution_count": 306,
   "metadata": {},
   "outputs": [
    {
     "data": {
      "text/plain": [
       "array([list([2, 5, 8, 3, 4, 10, 15, 5]), list([3, 17, 18, 9, 2, 14, 10]),\n",
       "       list([7, 5, 4, 3, 2, 7, 7])], dtype=object)"
      ]
     },
     "execution_count": 306,
     "metadata": {},
     "output_type": "execute_result"
    }
   ],
   "source": [
    "x= [list(store_one), list(store_two), list(store_three)]\n",
    "type(x)\n",
    "\n",
    "corp = np.array(x)\n",
    "type(corp)\n",
    "corp"
   ]
  },
  {
   "cell_type": "code",
   "execution_count": 307,
   "metadata": {},
   "outputs": [],
   "source": [
    "x\n",
    "xa = np.array(x)"
   ]
  },
  {
   "cell_type": "code",
   "execution_count": 308,
   "metadata": {},
   "outputs": [
    {
     "name": "stdout",
     "output_type": "stream",
     "text": [
      "[6.5, 10.428571428571429, 5.0]\n"
     ]
    }
   ],
   "source": [
    "corp[0]\n",
    "y1 = [ np.mean(corp[i]) for i in range(3)]\n",
    "print(y1)\n",
    "# y2 = np.mean(xa, axis=0)\n",
    "# print(y2)"
   ]
  },
  {
   "cell_type": "code",
   "execution_count": 309,
   "metadata": {},
   "outputs": [
    {
     "name": "stdout",
     "output_type": "stream",
     "text": [
      "6.5\n",
      "10.428571428571429\n",
      "5.0\n"
     ]
    }
   ],
   "source": [
    "print(store_one_avg)\n",
    "print(store_two_avg)\n",
    "print(store_three_avg)\n"
   ]
  },
  {
   "cell_type": "markdown",
   "metadata": {},
   "source": [
    "The boss says that we should increase what we stock, but only if the store’s average sales are greater than 7 bottles per week."
   ]
  },
  {
   "cell_type": "markdown",
   "metadata": {},
   "source": [
    "### Mean and Logical Operations"
   ]
  },
  {
   "cell_type": "code",
   "execution_count": null,
   "metadata": {},
   "outputs": [],
   "source": []
  },
  {
   "cell_type": "code",
   "execution_count": 310,
   "metadata": {},
   "outputs": [],
   "source": [
    "class_year = np.array([1967, 1949, 2004, 1997, 1953, 1950, 1958, 1974, 1987, 2006, 2013, 1978, \\\n",
    "                       1951, 1998, 1996, 1952, 2005, 2007, 2003, 1955, 1963, 1978, 2001, 2012, \\\n",
    "                       2014, 1948, 1970, 2011, 1962, 1966, 1978, 1988, 2006, 1971, 1994, 1978, \\\n",
    "                       1977, 1960, 2008, 1965, 1990, 2011, 1962, 1995, 2004, 1991, 1952, 2013, \\\n",
    "                       1983, 1955, 1957, 1947, 1994, 1978, 1957, 2016, 1969, 1996, 1958, 1994, \\\n",
    "                       1958, 2008, 1988, 1977, 1991, 1997, 2009, 1976, 1999, 1975, 1949, 1985, \\\n",
    "                       2001, 1952, 1953, 1949, 2015, 2006, 1996, 2015, 2009, 1949, 2004, 2010, \\\n",
    "                       2011, 2001, 1998, 1967, 1994, 1966, 1994, 1986, 1963, 1954, 1963, 1987, \\\n",
    "                       1992, 2008, 1979, 1987])\n"
   ]
  },
  {
   "cell_type": "code",
   "execution_count": 311,
   "metadata": {},
   "outputs": [
    {
     "name": "stdout",
     "output_type": "stream",
     "text": [
      "0.21\n"
     ]
    }
   ],
   "source": [
    "# class_year>2004 fills array with true/false depending on whether the element >24 or not.\n",
    "# T counts as 1, false as 0. np.mean sums al the elements and divided by the tootal number\n",
    "# Hence it finds the fraction.\n",
    "millennials = np.mean(class_year>2004)\n",
    "print(millennials)"
   ]
  },
  {
   "cell_type": "code",
   "execution_count": 312,
   "metadata": {},
   "outputs": [
    {
     "name": "stdout",
     "output_type": "stream",
     "text": [
      "5.266666666666667\n",
      "[4.  5.6 6.2]\n",
      "[4.33333333 3.         4.         8.66666667 6.33333333]\n"
     ]
    }
   ],
   "source": [
    "# Columns participants ; Rows Days of trial\n",
    "allergy_trials = np.array([[6, 1, 3, 8, 2], \n",
    "                           [2, 6, 3, 9, 8], \n",
    "                           [5, 2, 6, 9, 9]])\n",
    "# sample mean\n",
    "total_mean = np.mean(allergy_trials)\n",
    "print(total_mean)\n",
    "# Mean for each participant\n",
    "patient_mean = np.mean(allergy_trials, axis=1)\n",
    "print(patient_mean) \n",
    "# Daily mean\n",
    "trial_mean = np.mean(allergy_trials,axis=0)\n",
    "print(trial_mean)"
   ]
  },
  {
   "cell_type": "code",
   "execution_count": 313,
   "metadata": {},
   "outputs": [
    {
     "name": "stdout",
     "output_type": "stream",
     "text": [
      "[ 85  85  85  85  85  86  86  86  86  86  86  86  87  87  87  87  87  87\n",
      "  87  88  88  88  88  88  88  88  88  89  89  90  90  90  90  90  90  90\n",
      "  90  91  91  91  92  92  92  92  92  93  93  93  93  93  94  94  94  94\n",
      "  94  94  94  95  95  96  96  96  96  96  96  97  97  97  97  97  98  98\n",
      "  98  98  98  98  99  99  99  99  99 100 101 101 187 191 195 196 198 199]\n"
     ]
    }
   ],
   "source": [
    "\n",
    "temps = np.array([86, 88, 94, 85, 97, 90, 87, 85, 94, 93, 92, 95, 98, 85, 94, 91, 97, 88, 87, 86, \\\n",
    "                  99, 89, 89, 99, 88, 96, 93, 96, 85, 88, 191, 95, 96, 87, 99, 93, 90, 86, 87, 100, \\\n",
    "                  187, 98, 101, 101, 96, 94, 96, 87, 86, 92, 98,94, 98, 90, 99, 96, 99, 86, 97, 98, \\\n",
    "                  86, 90, 86, 94, 91, 88, 196, 195,93, 97, 199, 87, 87, 90, 90, 98, 88, 92, 97, 88, \\\n",
    "                  85, 94, 88, 93, 198, 90, 91, 90, 92, 92])\n",
    "\n",
    "sorted_temps = np.sort(temps)\n",
    "\n",
    "# Print sorted temp. It's easier to spot the outliers\n",
    "print(sorted_temps)"
   ]
  },
  {
   "cell_type": "code",
   "execution_count": 314,
   "metadata": {},
   "outputs": [
    {
     "data": {
      "text/plain": [
       "array([173306., 102204.,  96767.,  54264.,  40898.,  67887., 118737.,\n",
       "        74847., 104813., 122787., 122577., 113890., 100576.,  90345.,\n",
       "        94656.,  71403., 153102., 228233.,  85628., 106708.,  57289.,\n",
       "        42279., 157273.,  71691.,  77030., 111763.,  30770.,  69563.,\n",
       "       126201., 114726.,  78125.,  42670., 161304.,  74165., 114605.,\n",
       "        27270.,   3283.,  84450., 106449.,  89038.,  91897.,  50975.,\n",
       "       133062., 151264.,  66383.,  90675.,  70498.,  36092., 160018.,\n",
       "        58767., 121995.,  63990., 226476., 111729., 127747.,  57527.,\n",
       "       205382., 117022., 147723.,  71284., 119317., 138942.,  62945.,\n",
       "       121499.,  66940.,  80725.,  47357.,  98913.,  79435.,  92556.,\n",
       "       151156., 126723.,  65019., 187295.,  47038.,  40008.,  79243.,\n",
       "        45334., 142448.,  63090.,  92153., 251255.,  50875.,  46395.,\n",
       "        76754.,  43275.,  43150.,  57908.,  89343.,  39451.,  43198.,\n",
       "        89666.,  55168.,  41133., 185956., 239637.,  63426., 153088.,\n",
       "        86450., 195881.,  78946.,  80067.,  69686., 184432., 154515.,\n",
       "       115804., 133530.,  60730.,  44099.,  67570.,  62957., 140604.,\n",
       "        42206.,  94150.,  86555., 152236.,  91549., 105412.,  82216.,\n",
       "       117358., 161862., 101036., 117315., 104048.,  83689.,  65307.,\n",
       "        71789.,  67782.,  61844.,  71737., 203751.,  99121.,  44308.,\n",
       "        47353.,  44960.,  82439.,  96041.,  60345., 189146., 140438.,\n",
       "       162413.,  94489., 173568.,  60460., 154057., 137258., 151520.,\n",
       "        77844., 218342., 132205.,  60806.,  58737., 184590.,  95922.,\n",
       "        49074., 119246., 126128.,  35538., 143795.,  59662.,  65359.,\n",
       "       187713., 128584., 134499., 166816., 105213.,  76383.,  29964.,\n",
       "        73273.,  73307., 110846.,  80573.,  68186.,  52601.,  27428.,\n",
       "        32568., 178872., 111952.,  42409., 188881., 132103.,  53882.,\n",
       "        41144.,  60130.,  93221., 132447., 143502., 110259.,  55159.,\n",
       "        44512.,  46611.,  55662., 142456.,  70376.,  67326.,  53772.,\n",
       "        75131.,  36100., 121742.,  33156.])"
      ]
     },
     "execution_count": 314,
     "metadata": {},
     "output_type": "execute_result"
    }
   ],
   "source": [
    "# Median\n",
    "\n",
    "# Got dataset as followa:\n",
    "# import sys\n",
    "# for x in large_set:\n",
    "#   sys.stdout.write('{},'.format(str(x)))\n",
    "\n",
    "\n",
    "large_set = np.genfromtxt('household_income.csv', delimiter=',')\n",
    "large_set"
   ]
  },
  {
   "cell_type": "code",
   "execution_count": 315,
   "metadata": {},
   "outputs": [
    {
     "name": "stdout",
     "output_type": "stream",
     "text": [
      "86502.5\n"
     ]
    }
   ],
   "source": [
    "large_set_median = np.median(large_set)\n",
    "print(large_set_median)\n"
   ]
  },
  {
   "cell_type": "code",
   "execution_count": 316,
   "metadata": {},
   "outputs": [
    {
     "name": "stdout",
     "output_type": "stream",
     "text": [
      "7.661904761904762\n",
      "2.0\n"
     ]
    }
   ],
   "source": [
    "\n",
    "time_spent = np.genfromtxt('file.csv', delimiter=',')\n",
    "\n",
    "# print(time_spent)\n",
    "# import sys\n",
    "# for x in time_spent:\n",
    "#   sys.stdout.write('{},'.format(str(x)))\n",
    "\n",
    "minutes_mean = np.mean(time_spent)\n",
    "print(minutes_mean)\n",
    "\n",
    "minutes_median = np.median(time_spent)\n",
    "print(minutes_median)\n",
    "\n",
    "best_measure = minutes_median"
   ]
  },
  {
   "cell_type": "code",
   "execution_count": 317,
   "metadata": {},
   "outputs": [
    {
     "name": "stdout",
     "output_type": "stream",
     "text": [
      "3.0\n",
      "8.0\n"
     ]
    }
   ],
   "source": [
    "# Percentiles\n",
    "patrons = np.array([ 2, 6, 14, 4, 3, 9, 1, 11, 4, 2, 8])\n",
    "thirtieth_percentile = np.percentile(patrons, 30)\n",
    "print(thirtieth_percentile)\n",
    "\n",
    "seventieth_percentile = np.percentile(patrons, 70)\n",
    "print(seventieth_percentile)"
   ]
  },
  {
   "cell_type": "code",
   "execution_count": 318,
   "metadata": {},
   "outputs": [
    {
     "name": "stdout",
     "output_type": "stream",
     "text": [
      "1.0\n",
      "3.5\n",
      "2.5\n"
     ]
    }
   ],
   "source": [
    "# Five number summary: 0, 25, 50, 75, 200th percentile\n",
    "# Interquartile range = percentile(75)-percentile(25)\n",
    "\n",
    "movies_watched = np.array([2, 3, 8, 0, 2, 4, 3, 1, 1, 0, 5, 1, 1, 7, 2])\n",
    "\n",
    "first_quarter = np.percentile(movies_watched, 25)\n",
    "third_quarter = np.percentile(movies_watched, 75)\n",
    "interquartile_range = third_quarter - first_quarter\n",
    "\n",
    "print(first_quarter)\n",
    "print(third_quarter)\n",
    "print(interquartile_range)"
   ]
  },
  {
   "cell_type": "code",
   "execution_count": 319,
   "metadata": {},
   "outputs": [
    {
     "name": "stdout",
     "output_type": "stream",
     "text": [
      "1431.8\n",
      "[ 20  43  99 200  12 250  58 120 230 215]\n",
      "611.3183785884406\n",
      "87.22505374031019\n"
     ]
    }
   ],
   "source": [
    "# Numpy Standard Deviation\n",
    "pumpkin = np.array([68, 1820, 1420, 2062, 704, 1156, 1857, 1755, 2092, 1384])\n",
    "\n",
    "acorn_squash = np.array([20, 43, 99, 200, 12, 250, 58, 120, 230, 215])\n",
    "\n",
    "pumpkin_avg = np.mean(pumpkin)\n",
    "print(pumpkin_avg)\n",
    "acorn_squash_avg = np.mean(acorn_squash)\n",
    "print(acorn_squash)\n",
    "\n",
    "pumpkin_std = np.std(pumpkin)\n",
    "print(pumpkin_std)\n",
    "acorn_squash_std = np.std(acorn_squash)\n",
    "print(acorn_squash_std)\n",
    "\n",
    "winner = pumpkin\n",
    "\n"
   ]
  },
  {
   "cell_type": "code",
   "execution_count": 320,
   "metadata": {},
   "outputs": [],
   "source": [
    "# Review\n",
    "rainfall = np.array([5.21, 3.76, 3.27, 2.35, 1.89, 1.55, 0.65, \\\n",
    "                     1.06, 1.72, 3.35, 4.82, 5.11])\n"
   ]
  },
  {
   "cell_type": "markdown",
   "metadata": {},
   "source": [
    "### Crunchie Munchies\n",
    "You work in marketing for a food company YummyCorps, which is developing a new kind of tasty, wholesome cereal called CrunchieMunchies. You want to demonstrate to consumers how healthy your cereal is in comparison to other leading brands, so you’ve dug up nutritional data on several different competitors.\n",
    "\n",
    "Your task is to use NumPy statistical calculations to analyze this data and prove that your CrunchieMunchies cereal is the healthiest choice for consumers."
   ]
  },
  {
   "cell_type": "code",
   "execution_count": 321,
   "metadata": {},
   "outputs": [
    {
     "data": {
      "text/plain": [
       "array([ 70., 120.,  70.,  50., 110., 110., 110., 130.,  90.,  90., 120.,\n",
       "       110., 120., 110., 110., 110., 100., 110., 110., 110., 100., 110.,\n",
       "       100., 100., 110., 110., 100., 120., 120., 110., 100., 110., 100.,\n",
       "       110., 120., 120., 110., 110., 110., 140., 110., 100., 110., 100.,\n",
       "       150., 150., 160., 100., 120., 140.,  90., 130., 120., 100.,  50.,\n",
       "        50., 100., 100., 120., 100.,  90., 110., 110.,  80.,  90.,  90.,\n",
       "       110., 110.,  90., 110., 140., 100., 110., 110., 100., 100., 110.])"
      ]
     },
     "execution_count": 321,
     "metadata": {},
     "output_type": "execute_result"
    }
   ],
   "source": [
    "calorie_stats = np.genfromtxt('cereal.csv', delimiter=',')\n",
    "calorie_stats"
   ]
  },
  {
   "cell_type": "markdown",
   "metadata": {},
   "source": [
    "There are 60 calories per serving of CrunchieMunchies. How much higher is the average calorie count of your competition?"
   ]
  },
  {
   "cell_type": "code",
   "execution_count": 322,
   "metadata": {},
   "outputs": [
    {
     "name": "stdout",
     "output_type": "stream",
     "text": [
      "Crunchie is 46.883116883116884 lower than average 106.88311688311688\n"
     ]
    }
   ],
   "source": [
    "average_calories = np.mean(calorie_stats)\n",
    "# print(average_calories)\n",
    "crunchie_cal = 60\n",
    "difference = average_calories - crunchie_cal\n",
    "print('Crunchie is {} lower than average {}'\\\n",
    "      .format(difference, average_calories))"
   ]
  },
  {
   "cell_type": "markdown",
   "metadata": {},
   "source": [
    "Does the average calorie count adequately reflect the distribution of the dataset? Let’s sort the data and see."
   ]
  },
  {
   "cell_type": "code",
   "execution_count": 323,
   "metadata": {},
   "outputs": [
    {
     "name": "stdout",
     "output_type": "stream",
     "text": [
      "[ 50.  50.  50.  70.  70.  80.  90.  90.  90.  90.  90.  90.  90. 100.\n",
      " 100. 100. 100. 100. 100. 100. 100. 100. 100. 100. 100. 100. 100. 100.\n",
      " 100. 100. 110. 110. 110. 110. 110. 110. 110. 110. 110. 110. 110. 110.\n",
      " 110. 110. 110. 110. 110. 110. 110. 110. 110. 110. 110. 110. 110. 110.\n",
      " 110. 110. 110. 120. 120. 120. 120. 120. 120. 120. 120. 120. 120. 130.\n",
      " 130. 140. 140. 140. 150. 150. 160.]\n"
     ]
    }
   ],
   "source": [
    "calorie_stats_sorted = np.sort(calorie_stats)\n",
    "print(calorie_stats_sorted)"
   ]
  },
  {
   "cell_type": "code",
   "execution_count": 324,
   "metadata": {},
   "outputs": [
    {
     "data": {
      "image/png": "[encoded data removed]",
      "text/plain": [
       "<Figure size 432x288 with 1 Axes>"
      ]
     },
     "metadata": {
      "needs_background": "light"
     },
     "output_type": "display_data"
    }
   ],
   "source": [
    "# There seem to be some high value. Not easy to see.\n",
    "# Try a boxplot\n",
    "plt.boxplot(calorie_stats)\n",
    "plt.show()"
   ]
  },
  {
   "cell_type": "code",
   "execution_count": 325,
   "metadata": {},
   "outputs": [
    {
     "data": {
      "image/png": "[encoded data removed]",
      "text/plain": [
       "<Figure size 432x288 with 1 Axes>"
      ]
     },
     "metadata": {
      "needs_background": "light"
     },
     "output_type": "display_data"
    }
   ],
   "source": [
    "# See how easy it is to make boxplot. It shows that there are outliers\n",
    "# both above and below the intequartile range.\n",
    "sns.boxplot(data=calorie_stats)\n",
    "plt.show()"
   ]
  },
  {
   "cell_type": "code",
   "execution_count": 326,
   "metadata": {},
   "outputs": [
    {
     "data": {
      "image/png": "[encoded data removed]",
      "text/plain": [
       "<Figure size 432x288 with 1 Axes>"
      ]
     },
     "metadata": {
      "needs_background": "light"
     },
     "output_type": "display_data"
    }
   ],
   "source": [
    "# Even betteer teh violin plot shows the outiers both above and \n",
    "# below; and the preponderance of hight values\n",
    "sns.violinplot(data=calorie_stats)\n",
    "plt.show()"
   ]
  },
  {
   "cell_type": "markdown",
   "metadata": {},
   "source": [
    "Calculate the median of the dataset and save your answer to median_calories."
   ]
  },
  {
   "cell_type": "code",
   "execution_count": 327,
   "metadata": {},
   "outputs": [
    {
     "name": "stdout",
     "output_type": "stream",
     "text": [
      "110.0\n"
     ]
    }
   ],
   "source": [
    "# Median is higher but not in a way that I can draw a conclusion by itself\n",
    "median_calories = np.median(calorie_stats)\n",
    "print(median_calories)"
   ]
  },
  {
   "cell_type": "markdown",
   "metadata": {},
   "source": [
    "While the median demonstrates that at least half of our values are over 100 calories, it would be more impressive to show that a significant portion of the competition has a higher calorie count that CrunchieMunchies.\n",
    "\n",
    "Calculate different percentiles and print them to the terminal until you find the lowest percentile that is greater than 60 calories. Save this value to the variable nth_percentile."
   ]
  },
  {
   "cell_type": "code",
   "execution_count": 328,
   "metadata": {},
   "outputs": [
    {
     "name": "stdout",
     "output_type": "stream",
     "text": [
      "110.0\n"
     ]
    }
   ],
   "source": [
    "nth_percentile = np.percentile(calorie_stats,60)\n",
    "print(nth_percentile)"
   ]
  },
  {
   "cell_type": "code",
   "execution_count": 329,
   "metadata": {},
   "outputs": [
    {
     "data": {
      "text/plain": [
       "[(1, 57.11999999999999),\n",
       " (2, 58.64),\n",
       " (3, 60.160000000000004),\n",
       " (4, 61.68),\n",
       " (5, 63.2),\n",
       " (6, 64.72),\n",
       " (7, 66.24000000000001),\n",
       " (8, 67.76),\n",
       " (9, 69.28)]"
      ]
     },
     "execution_count": 329,
     "metadata": {},
     "output_type": "execute_result"
    }
   ],
   "source": [
    "ps = list(range(1,10,1))\n",
    "list(zip(ps, [np.percentile(calorie_stats, 3+p/10) for p in ps]))\n"
   ]
  },
  {
   "cell_type": "markdown",
   "metadata": {},
   "source": [
    "Calculate the percentage of cereals that have more than 60 calories per serving. "
   ]
  },
  {
   "cell_type": "code",
   "execution_count": 330,
   "metadata": {},
   "outputs": [
    {
     "name": "stdout",
     "output_type": "stream",
     "text": [
      "96.1038961038961\n"
     ]
    }
   ],
   "source": [
    "more_calories = 100 * np.mean(calorie_stats>60)\n",
    "print(more_calories)"
   ]
  },
  {
   "cell_type": "markdown",
   "metadata": {},
   "source": [
    "Calculate the amount of variation by finding the standard deviation. "
   ]
  },
  {
   "cell_type": "code",
   "execution_count": 331,
   "metadata": {},
   "outputs": [
    {
     "name": "stdout",
     "output_type": "stream",
     "text": [
      "19.35718533390827\n"
     ]
    }
   ],
   "source": [
    "calorie_std = np.std(calorie_stats)\n",
    "print(calorie_std)"
   ]
  },
  {
   "cell_type": "markdown",
   "metadata": {},
   "source": [
    "Conclusions:\n",
    "CM has only 60 calories per serving, 40% lower than the majority of other brands. In fact, 97% of other brands have higher calories. Also, wieght conscious consumers should know that a significant number of other brands have substantially more calories than the average."
   ]
  },
  {
   "cell_type": "markdown",
   "metadata": {},
   "source": [
    "###  STATISTICAL DISTRIBUTIONS WITH NUMPY\n",
    "Introduction\n",
    "A university wants to keep track of the popularity of different programs over time, to ensure that programs are allocated enough space and resources. You work in the admissions office and are asked to put together a set of visuals that show these trends to interested applicants. How can we calculate these distributions? Would we be able to see trends and predict the popularity of certain programs in the future? How would we show this information?\n",
    "\n",
    "In this lesson, we are going to learn how to use NumPy to analyze different distributions, generate random numbers to produce datasets, and use Matplotlib to visualize our findings.\n",
    "\n",
    "This lesson will cover:\n",
    "\n",
    "- How to generate and graph histograms\n",
    "- How to identify different distributions by their shape\n",
    "- Normal distributions\n",
    "- How standard deviations relate to normal distributions\n",
    "- Binomial distributions"
   ]
  },
  {
   "cell_type": "markdown",
   "metadata": {},
   "source": [
    "### Histograms, Part I\n",
    "When we first look at a dataset, we want to be able to quickly understand certain things about it:\n",
    "\n",
    "Do some values occur more often than others?\n",
    "What is the range of the dataset (i.e., the min and the max values)?\n",
    "Are there a lot of outliers?\n",
    "We can visualize this information using a chart called a histogram.\n",
    "\n",
    "### Histograms, Part II\n",
    "Suppose we had a larger dataset with values ranging from 0 to 50. We might not want to know exactly how many 0’s, 1’s, 2’s, etc. we have.\n",
    "\n",
    "Instead, we might want to know how many values fall between 0 and 5, 6 and 10, 11 and 15, etc.\n",
    "\n",
    "These groupings are called bins. All bins in a histogram are always the same size. The width of each bin is the distance between the minimum and maximum values of each bin. In our example, the width of each bin would be 5.\n",
    "\n",
    "### Histograms, Part III\n",
    "We can graph histograms using a Python module known as Matplotlib."
   ]
  },
  {
   "cell_type": "markdown",
   "metadata": {},
   "source": [
    "### Different Types of Distributions, Part I\n",
    "Histograms and their datasets can be classified based on the shape of the graphed values. In the next two exercises, we’ll look at two different ways of describing histograms.\n",
    "\n",
    "One way to classify a dataset is by counting the number of distinct peaks present in the graph. Peaks represent concentrations of data. Let’s look at the following examples:\n",
    "\n",
    "A unimodal dataset has only one distinct peak.\n",
    "\n",
    "A bimodal dataset has two distinct peaks. This often happens when the data contains two different populations.\n",
    "\n",
    "A multimodal dataset has more than two peaks.\n",
    "\n",
    "### Different Types of Distribution, Part II\n",
    "Most of the datasets that we’ll be dealing with will be unimodal (one peak). We can further classify unimodal distributions by describing where most of the numbers are relative to the peak.\n",
    "\n",
    "A symmetric dataset has equal amounts of data on both sides of the peak. Both sides should look about the same. \n",
    "- mean ~ median\n",
    "\n",
    "A skew-right dataset has a long tail on the right of the peak, but most of the data is on the left. \n",
    "- mean is right of median, i.e. greater, i.e. tail is to the right\n",
    "\n",
    "A skew-left dataset has a long tail on the left of the peak, but most of the data is on the right. \n",
    "- mean is left of median i.e. less than median, i.e. the tail is to the left"
   ]
  },
  {
   "cell_type": "markdown",
   "metadata": {},
   "source": [
    "### Normal Distribution, Part II\n",
    "We can generate our own normally distributed datasets using NumPy. Using these datasets can help us better understand the properties and behavior of different distributions. We can also use them to model results, which we can then use as a comparison to real data.\n",
    "\n",
    "In order to create these datasets, we need to use a random number generator. The NumPy library has several functions for generating random numbers, including one specifically built to generate a set of numbers that fit a normal distribution: np.random.normal. This function takes the following keyword arguments:\n",
    "\n",
    "- loc: the mean for the normal distribution\n",
    "- scale: the standard deviation of the distribution\n",
    "- size: the number of random numbers to generate"
   ]
  },
  {
   "cell_type": "markdown",
   "metadata": {},
   "source": [
    "Paleontology\n",
    "He’s studying two types of dinosaurs: brachiosaurus and fictionosaurus. He tells us that:\n",
    "\n",
    "Brachiosaurus have femurs (thigh bone) with mean length of 6.7 ft and a standard deviation of 0.7 ft.\n",
    "Fictionosaurus have femurs (thigh bone) with mean length of 7.7 ft and a standard deviation of 0.3 ft.\n",
    "We’d like to know what these distributions look like."
   ]
  },
  {
   "cell_type": "code",
   "execution_count": 332,
   "metadata": {},
   "outputs": [
    {
     "data": {
      "image/png": "[encoded data removed]",
      "text/plain": [
       "<Figure size 432x288 with 1 Axes>"
      ]
     },
     "metadata": {
      "needs_background": "light"
     },
     "output_type": "display_data"
    }
   ],
   "source": [
    "# Brachiosaurus\n",
    "b_data = np.random.normal(6.7, .7, size=1000)\n",
    "\n",
    "# Fictionosaurus\n",
    "f_data = np.random.normal(7.7,.3, size=1000)\n",
    "\n",
    "plt.hist(b_data,\n",
    "         bins=30, range=(5, 8.5), histtype='step',\n",
    "         label='Brachiosaurus')\n",
    "plt.hist(f_data,\n",
    "         bins=30, range=(5, 8.5), histtype='step',\n",
    "         label='Fictionosaurus')\n",
    "plt.xlabel('Femur Length (ft)')\n",
    "plt.legend(loc=2)\n",
    "plt.show()"
   ]
  },
  {
   "cell_type": "code",
   "execution_count": 333,
   "metadata": {},
   "outputs": [
    {
     "name": "stdout",
     "output_type": "stream",
     "text": [
      "Sample:  6.6\n",
      "b: 6.704239467326149 0.6879234646728053\n",
      "0.15152771010032076\n",
      "f: 7.710242749957625 0.293866280613943\n",
      "3.7780542484769444\n",
      "Sample:  7.7\n",
      "b: 6.704239467326149 0.6879234646728053\n",
      "-1.4474873787703428\n",
      "f: 7.710242749957625 0.293866280613943\n",
      "0.034855138657710866\n"
     ]
    }
   ],
   "source": [
    "# Mystery sample femur of 6.6 ft. Which of the two dinosauer is it?\n",
    "def compare(sample):\n",
    "    print('Sample: ', sample)\n",
    "    b_mean = np.mean(b_data)\n",
    "    b_std = np.std(b_data)\n",
    "    print('b:', b_mean, b_std)\n",
    "    print((b_mean-sample)/b_std)\n",
    "\n",
    "    f_mean = np.mean(f_data)\n",
    "    f_std = np.std(f_data)\n",
    "    print('f:',f_mean, f_std)\n",
    "    print((f_mean-sample)/f_std)\n",
    "    \n",
    "compare(6.6)\n",
    "compare(7.7)\n"
   ]
  },
  {
   "cell_type": "code",
   "execution_count": 334,
   "metadata": {},
   "outputs": [
    {
     "name": "stdout",
     "output_type": "stream",
     "text": [
      "1.982\n",
      "2.0\n"
     ]
    }
   ],
   "source": [
    "# P(x>u-s & x<u+s) = 2*P(x<u+s) - 1 because p(u-x) = p(u+x)\n",
    "f = lambda y: 2*np.mean( y > (np.mean(y)-np.std(y)) - 1 )\n",
    "print(f(b_data))\n",
    "print(f(f_data))"
   ]
  },
  {
   "cell_type": "markdown",
   "metadata": {},
   "source": [
    "Conclusion 6.6 - The mystery dinosaur with the 6.6 ft femur is more likely a Brachiosaurus because it's femur is within 0.16 std of b's mean of 6.7. On the other hand, it is 3.7 std deviations from the Fictionosaurus mean of 7.7. The expectation of matching is much less than 1%.\n",
    "\n",
    "Conclusion 7.7 - The mystery dinosaur with the 7.7 ft femur is more likely a FictionosaurusBrachiosaurus because it's femur is within 0.064 std of F's mean of 7.7. On the other hand, it is 1.4 std deviations from the Brachiosaurus mean of 6.7. The expectation of matching is less than 5%.\n"
   ]
  },
  {
   "cell_type": "markdown",
   "metadata": {},
   "source": [
    "### Binomial Distribution\n",
    "NumPy has a function for generating binomial distributions: np.random.binomial, which we can use to determine the probability of different outcomes.\n",
    "\n",
    "The function will return the number of successes for each “experiment”.\n",
    "\n",
    "It takes the following arguments:\n",
    "\n",
    "N: The number of samples or trials\n",
    "P: The probability of success\n",
    "size: The number of experiments\n",
    "\n",
    "\n",
    "A person sends 500 emails asking people to donate to their cause, with an estimated probability that 25 people (5%) will open the email and click to donate. There were 10,000 experiments."
   ]
  },
  {
   "cell_type": "code",
   "execution_count": 335,
   "metadata": {},
   "outputs": [
    {
     "data": {
      "image/png": "[encoded data removed]",
      "text/plain": [
       "<Figure size 432x288 with 1 Axes>"
      ]
     },
     "metadata": {
      "needs_background": "light"
     },
     "output_type": "display_data"
    }
   ],
   "source": [
    "# The probability that an email is opened 0.05\n",
    "emails = np.random.binomial(500, 0.05, 10000)\n",
    "# sns.set_theme()\n",
    "# sns.kdeplot(emails)\n",
    "sns.distplot(emails)\n",
    "plt.show()"
   ]
  },
  {
   "cell_type": "code",
   "execution_count": 336,
   "metadata": {},
   "outputs": [
    {
     "name": "stdout",
     "output_type": "stream",
     "text": [
      "0.0\n"
     ]
    }
   ],
   "source": [
    "# the probability that no one opens the email?\n",
    "no_email = np.mean(emails==0)\n",
    "print(no_email)"
   ]
  },
  {
   "cell_type": "code",
   "execution_count": 337,
   "metadata": {},
   "outputs": [
    {
     "name": "stdout",
     "output_type": "stream",
     "text": [
      "0.0014\n"
     ]
    }
   ],
   "source": [
    "# The prob that 8% or more of the people will open email\n",
    "b_test_emails = np.mean(emails>0.08*500)\n",
    "print(b_test_emails)"
   ]
  },
  {
   "cell_type": "markdown",
   "metadata": {},
   "source": [
    "### Practice distributions"
   ]
  },
  {
   "cell_type": "code",
   "execution_count": 338,
   "metadata": {},
   "outputs": [
    {
     "name": "stdout",
     "output_type": "stream",
     "text": [
      "13.002150000000002\n",
      "1.123322250068964\n"
     ]
    }
   ],
   "source": [
    "sunflowers = np.genfromtxt('sunflower_heights.csv', delimiter=',')\n",
    "sunflowers_mean = np.mean(sunflowers)\n",
    "print(sunflowers_mean)\n",
    "sunflowers_std = np.std(sunflowers)\n",
    "print(sunflowers_std)"
   ]
  },
  {
   "cell_type": "code",
   "execution_count": 375,
   "metadata": {},
   "outputs": [
    {
     "name": "stdout",
     "output_type": "stream",
     "text": [
      "13.89,14.7,13.0,11.37,12.1,11.82,13.09,13.78,12.0,12.83,12.1,11.09,13.32,11.86,14.35,11.7,12.85,14.0,13.83,12.02,12.05,14.1,12.39,11.83,13.18,11.43,14.61,13.12,11.5,11.15,12.64,14.07,12.44,11.21,14.31,14.62,14.67,14.55,12.72,11.19,13.27,12.02,13.79,13.14,14.51,12.37,14.06,14.36,11.24,14.73,13.03,13.86,13.33,11.3,12.18,11.75,14.69,14.18,14.05,12.58,14.53,12.45,14.44,12.76,11.65,14.7,14.54,12.98,13.08,14.63,13.22,12.59,14.62,11.37,14.55,14.7,14.89,11.45,14.74,13.78,13.62,12.36,11.15,11.15,13.1,12.82,12.34,13.25,12.1,14.69,14.58,14.89,14.03,12.29,12.03,11.83,13.57,11.75,13.64,12.42,13.07,12.97,14.89,11.23,13.45,14.11,12.47,12.24,13.9,12.85,14.65,13.54,12.76,12.41,11.61,11.77,11.44,13.85,13.02,14.61,13.68,12.99,11.88,12.48,12.78,12.23,13.88,12.83,13.41,13.9,12.35,12.91,11.32,13.63,11.37,12.87,11.27,12.56,11.87,12.53,14.5,11.38,11.25,11.13,13.7,12.58,11.88,14.5,11.91,13.87,14.38,12.04,13.61,13.1,12.96,12.3,14.54,13.66,14.86,12.42,14.34,14.1,12.37,14.33,11.64,13.45,13.49,13.55,12.65,11.54,12.48,12.26,13.93,11.98,12.04,14.59,11.51,12.49,13.71,11.26,12.15,13.84,14.62,11.76,12.59,13.56,12.21,11.24,14.47,14.63,12.51,11.43,14.84,14.14,14.16,12.93,13.19,11.53,12.78,12.79\n",
      "13.89,14.7,13.0,11.37,12.1,11.82,13.09,13.78,12.0,12.83,12.1,11.09,13.32,11.86,14.35,11.7,12.85,14.0,13.83,12.02,12.05,14.1,12.39,11.83,13.18,11.43,14.61,13.12,11.5,11.15,12.64,14.07,12.44,11.21,14.31,14.62,14.67,14.55,12.72,11.19,13.27,12.02,13.79,13.14,14.51,12.37,14.06,14.36,11.24,14.73,13.03,13.86,13.33,11.3,12.18,11.75,14.69,14.18,14.05,12.58,14.53,12.45,14.44,12.76,11.65,14.7,14.54,12.98,13.08,14.63,13.22,12.59,14.62,11.37,14.55,14.7,14.89,11.45,14.74,13.78,13.62,12.36,11.15,11.15,13.1,12.82,12.34,13.25,12.1,14.69,14.58,14.89,14.03,12.29,12.03,11.83,13.57,11.75,13.64,12.42,13.07,12.97,14.89,11.23,13.45,14.11,12.47,12.24,13.9,12.85,14.65,13.54,12.76,12.41,11.61,11.77,11.44,13.85,13.02,14.61,13.68,12.99,11.88,12.48,12.78,12.23,13.88,12.83,13.41,13.9,12.35,12.91,11.32,13.63,11.37,12.87,11.27,12.56,11.87,12.53,14.5,11.38,11.25,11.13,13.7,12.58,11.88,14.5,11.91,13.87,14.38,12.04,13.61,13.1,12.96,12.3,14.54,13.66,14.86,12.42,14.34,14.1,12.37,14.33,11.64,13.45,13.49,13.55,12.65,11.54,12.48,12.26,13.93,11.98,12.04,14.59,11.51,12.49,13.71,11.26,12.15,13.84,14.62,11.76,12.59,13.56,12.21,11.24,14.47,14.63,12.51,11.43,14.84,14.14,14.16,12.93,13.19,11.53,12.78,12.79\n"
     ]
    }
   ],
   "source": [
    "import sys\n",
    "sunflowers = np.genfromtxt('sunflower_heights.csv', delimiter=',')\n",
    "print(','.join([str(x) for x in sunflowers]))\n",
    "print(*sunflowers, file=sys.stdout, sep=',')"
   ]
  },
  {
   "cell_type": "code",
   "execution_count": 339,
   "metadata": {},
   "outputs": [
    {
     "ename": "SyntaxError",
     "evalue": "invalid syntax (<ipython-input-339-fa392f3bc715>, line 7)",
     "output_type": "error",
     "traceback": [
      "\u001b[0;36m  File \u001b[0;32m\"<ipython-input-339-fa392f3bc715>\"\u001b[0;36m, line \u001b[0;32m7\u001b[0m\n\u001b[0;31m    range=(11, 15), histtype='step', linewidth=2,\u001b[0m\n\u001b[0m    ^\u001b[0m\n\u001b[0;31mSyntaxError\u001b[0m\u001b[0;31m:\u001b[0m invalid syntax\n"
     ]
    }
   ],
   "source": [
    "sunflowers_normal = np.random.normal(sunflowers_mean, sunflowers_std, size=5000)\n",
    "\n",
    "plt.hist(sunflowers,\n",
    "         range=(11, 15), histtype='step', linewidth=2,\n",
    "        label='observed', density=True)\n",
    "plt.hist(sunflowers_normal,bm\n",
    "        range=(11, 15), histtype='step', linewidth=2,\n",
    "       label='normal', density=True)\n",
    "plt.legend()\n",
    "plt.show()"
   ]
  },
  {
   "cell_type": "markdown",
   "metadata": {},
   "source": [
    "Generally, 10% of sunflowers that are planted fail to bloom. We planted 200, and want to know the probability that fewer than 20 will fail to bloom.\n",
    "\n",
    "First, generate 5,000 binomial random numbers that represent our situation. Save them to experiments."
   ]
  },
  {
   "cell_type": "code",
   "execution_count": 340,
   "metadata": {},
   "outputs": [
    {
     "data": {
      "image/png": "[encoded data removed]",
      "text/plain": [
       "<Figure size 432x288 with 1 Axes>"
      ]
     },
     "metadata": {
      "needs_background": "light"
     },
     "output_type": "display_data"
    }
   ],
   "source": [
    "experiments = np.random.binomial(200, .1, 5000)\n",
    "sns.distplot(experiments)\n",
    "plt.show()"
   ]
  },
  {
   "cell_type": "code",
   "execution_count": 341,
   "metadata": {},
   "outputs": [
    {
     "name": "stdout",
     "output_type": "stream",
     "text": [
      "0.4458\n"
     ]
    }
   ],
   "source": [
    "prob = np.mean(experiments<20)\n",
    "print(prob)"
   ]
  },
  {
   "cell_type": "markdown",
   "metadata": {},
   "source": [
    "### Election Results\n",
    "You’re part of an impartial research group that conducts phone su\n",
    "rveys prior to local elections. During this election season, the group conducted a survey to determine how many people would vote for Cynthia Ceballos vs. Justin Kerrigan in the mayoral election.\n",
    "\n",
    "Now that the election has occurred, your group wants to compare the survey responses to the actual results.\n",
    "\n",
    "Was your survey a good indicator? Let’s find out!\n",
    "\n",
    "---\n",
    "\n",
    "At the top of script.py is a list of the different survey responses.\n",
    "\n",
    "Calculate the number of people who answered ‘Ceballos’ and save the answer to the variable total_ceballos."
   ]
  },
  {
   "cell_type": "code",
   "execution_count": 346,
   "metadata": {},
   "outputs": [],
   "source": [
    "survey_responses = ['Ceballos', 'Kerrigan', 'Ceballos', 'Ceballos', 'Ceballos','Kerrigan', \\\n",
    "                    'Kerrigan', 'Ceballos', 'Ceballos', 'Ceballos', 'Kerrigan', 'Kerrigan', \\\n",
    "                    'Ceballos', 'Ceballos', 'Kerrigan', 'Kerrigan', 'Ceballos', 'Ceballos', \\\n",
    "                    'Kerrigan', 'Kerrigan', 'Kerrigan', 'Kerrigan', 'Kerrigan', 'Kerrigan', \\\n",
    "                    'Ceballos', 'Ceballos', 'Ceballos', 'Ceballos', 'Ceballos', 'Ceballos', \\\n",
    "                    'Kerrigan', 'Kerrigan', 'Ceballos', 'Ceballos', 'Ceballos', 'Kerrigan', \\\n",
    "                    'Kerrigan', 'Ceballos', 'Ceballos', 'Kerrigan', 'Kerrigan', 'Ceballos', \\\n",
    "                    'Ceballos', 'Kerrigan', 'Kerrigan', 'Kerrigan', 'Kerrigan', 'Kerrigan', \\\n",
    "                    'Kerrigan', 'Ceballos', 'Kerrigan', 'Kerrigan', 'Ceballos', 'Ceballos', \\\n",
    "                    'Ceballos', 'Kerrigan', 'Kerrigan', 'Ceballos', 'Ceballos', 'Kerrigan', \\\n",
    "                    'Kerrigan', 'Ceballos', 'Ceballos', 'Kerrigan', 'Kerrigan', 'Kerrigan', \\\n",
    "                    'Kerrigan', 'Kerrigan', 'Kerrigan', 'Ceballos']"
   ]
  },
  {
   "cell_type": "code",
   "execution_count": 357,
   "metadata": {},
   "outputs": [
    {
     "name": "stdout",
     "output_type": "stream",
     "text": [
      "survey_size 70\n",
      "Survey vote for ceballos 33\n",
      "0.4714285714285714\n"
     ]
    }
   ],
   "source": [
    "# Make the survey_responses into t/f array about ceballos. True == 1\n",
    "# Something different would be needed if more than two people\n",
    "\n",
    "survey_size = len(survey_responses)\n",
    "print('survey_size', survey_size)\n",
    "survey_ceballos = np.array([ x=='Ceballos' for x in survey_responses ])\n",
    "total_ceballos = np.sum(survey_ceballos)\n",
    "print('Survey vote for ceballos', total_ceballos)\n",
    "percentage_ceballos = np.mean(survey_ceballos)\n",
    "print(percentage_ceballos)"
   ]
  },
  {
   "cell_type": "markdown",
   "metadata": {},
   "source": [
    "In the real election, 54% of the 10,000 town population voted for Cynthia Ceballos. Your supervisors are concerned because this is a very different outcome than what the poll predicted. They want you to determine if there is something wrong with the poll or if given the sample size, it was an entirely reasonable result.\n",
    "\n",
    "Generate a binomial distribution that takes the number of total survey responses, the actual success rate, and the size of the town’s population as its parameters. Then divide the distribution by the number of survey responses. Save your calculation to the variable possible_surveys."
   ]
  },
  {
   "cell_type": "code",
   "execution_count": 364,
   "metadata": {},
   "outputs": [
    {
     "data": {
      "image/png": "[encoded data removed]",
      "text/plain": [
       "<Figure size 432x288 with 1 Axes>"
      ]
     },
     "metadata": {
      "needs_background": "light"
     },
     "output_type": "display_data"
    }
   ],
   "source": [
    "total_vote = 10000\n",
    "vote_success_rate = 0.54\n",
    "sample_size = survey_size\n",
    "\n",
    "# Divide by sample size so range is between [0,1].\n",
    "# Make sure it is a float to avoid integer division\n",
    "\n",
    "possible_surveys = np.random.binomial(sample_size, vote_success_rate, total_vote)/float(sample_size)\n",
    "plt.hist(possible_surveys, bins=20, range=(0,1))\n",
    "plt.show()"
   ]
  },
  {
   "cell_type": "code",
   "execution_count": 367,
   "metadata": {},
   "outputs": [
    {
     "name": "stdout",
     "output_type": "stream",
     "text": [
      "0.2143\n"
     ]
    }
   ],
   "source": [
    "ceballos_loss_surveys = np.mean(possible_surveys<.50)\n",
    "print(ceballos_loss_surveys)"
   ]
  },
  {
   "cell_type": "code",
   "execution_count": 376,
   "metadata": {},
   "outputs": [
    {
     "data": {
      "image/png": "[encoded data removed]",
      "text/plain": [
       "<Figure size 432x288 with 1 Axes>"
      ]
     },
     "metadata": {
      "needs_background": "light"
     },
     "output_type": "display_data"
    },
    {
     "name": "stdout",
     "output_type": "stream",
     "text": [
      "0.0\n"
     ]
    }
   ],
   "source": [
    "# This shows that a poll of this size would still predict ceballos losing \n",
    "# (i.e. getting a vote <50%) ~21% of the time.\n",
    "# The poll needs to be larger.\n",
    "\n",
    "# Lets try with 7000 people\n",
    "large_sample_size = 7000\n",
    "\n",
    "large_survey = np.random.binomial(large_sample_size, vote_success_rate, total_vote)\\\n",
    "               /float(large_sample_size)\n",
    "plt.hist(large_survey, bins=20, range=(0,1))\n",
    "plt.show()\n",
    "\n",
    "ceballos_large_loss_surveys = np.mean(large_survey<.50)\n",
    "print(ceballos_large_loss_surveys)"
   ]
  }
 ],
 "metadata": {
  "kernelspec": {
   "display_name": "Python 3",
   "language": "python",
   "name": "python3"
  },
  "language_info": {
   "codemirror_mode": {
    "name": "ipython",
    "version": 3
   },
   "file_extension": ".py",
   "mimetype": "text/x-python",
   "name": "python",
   "nbconvert_exporter": "python",
   "pygments_lexer": "ipython3",
   "version": "3.8.3"
  }
 },
 "nbformat": 4,
 "nbformat_minor": 4
}
